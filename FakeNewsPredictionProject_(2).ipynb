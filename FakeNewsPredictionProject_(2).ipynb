{
  "nbformat": 4,
  "nbformat_minor": 0,
  "metadata": {
    "colab": {
      "name": "FakeNewsPredictionProject (2)",
      "provenance": [],
      "collapsed_sections": [],
      "mount_file_id": "1ti2HsmlCOn-LTsvvYYSzrQ5wOdN3Nx-G",
      "authorship_tag": "ABX9TyPqhM4bpjwyPyTZCdsb7JhN",
      "include_colab_link": true
    },
    "kernelspec": {
      "name": "python3",
      "display_name": "Python 3"
    },
    "language_info": {
      "name": "python"
    }
  },
  "cells": [
    {
      "cell_type": "markdown",
      "metadata": {
        "id": "view-in-github",
        "colab_type": "text"
      },
      "source": [
        "<a href=\"https://colab.research.google.com/github/jalalrahmanov/Projects/blob/master/FakeNewsPredictionProject_(2).ipynb\" target=\"_parent\"><img src=\"https://colab.research.google.com/assets/colab-badge.svg\" alt=\"Open In Colab\"/></a>"
      ]
    },
    {
      "cell_type": "markdown",
      "source": [
        "## Welcome!"
      ],
      "metadata": {
        "id": "185Y1lkT6meG"
      }
    },
    {
      "cell_type": "code",
      "source": [
        "ls"
      ],
      "metadata": {
        "colab": {
          "base_uri": "https://localhost:8080/"
        },
        "id": "40Y48w354gaF",
        "outputId": "de3cd89f-a7e1-43d0-da1b-207d0c0533a1"
      },
      "execution_count": 1,
      "outputs": [
        {
          "output_type": "stream",
          "name": "stdout",
          "text": [
            "\u001b[0m\u001b[01;34mdrive\u001b[0m/  \u001b[01;34msample_data\u001b[0m/\n"
          ]
        }
      ]
    },
    {
      "cell_type": "code",
      "source": [
        "pwd"
      ],
      "metadata": {
        "colab": {
          "base_uri": "https://localhost:8080/",
          "height": 35
        },
        "id": "_jxGm2gS4nnq",
        "outputId": "7308505c-77de-4e46-a25f-fa8827ba7c9e"
      },
      "execution_count": 2,
      "outputs": [
        {
          "output_type": "execute_result",
          "data": {
            "text/plain": [
              "'/content'"
            ],
            "application/vnd.google.colaboratory.intrinsic+json": {
              "type": "string"
            }
          },
          "metadata": {},
          "execution_count": 2
        }
      ]
    },
    {
      "cell_type": "code",
      "source": [
        "#changing the working directory\n",
        "%cd /content/drive/My Drive/Kaggle\n",
        "#Check the present working directory using pwd command"
      ],
      "metadata": {
        "colab": {
          "base_uri": "https://localhost:8080/"
        },
        "id": "ZNm_sIKQ4eQ3",
        "outputId": "f8b1c37a-98a9-4518-90c3-7d54ef5a159f"
      },
      "execution_count": 3,
      "outputs": [
        {
          "output_type": "stream",
          "name": "stdout",
          "text": [
            "/content/drive/My Drive/Kaggle\n"
          ]
        }
      ]
    },
    {
      "cell_type": "code",
      "source": [
        "pwd"
      ],
      "metadata": {
        "colab": {
          "base_uri": "https://localhost:8080/",
          "height": 35
        },
        "id": "1d-4xP9Y4vTr",
        "outputId": "2a929b5f-dd19-4fae-d3fb-64488cdd43be"
      },
      "execution_count": 4,
      "outputs": [
        {
          "output_type": "execute_result",
          "data": {
            "text/plain": [
              "'/content/drive/My Drive/Kaggle'"
            ],
            "application/vnd.google.colaboratory.intrinsic+json": {
              "type": "string"
            }
          },
          "metadata": {},
          "execution_count": 4
        }
      ]
    },
    {
      "cell_type": "code",
      "source": [
        "ls"
      ],
      "metadata": {
        "colab": {
          "base_uri": "https://localhost:8080/"
        },
        "id": "i-hvv6n_4yDz",
        "outputId": "8062b598-7320-4858-deb8-d3840235ece5"
      },
      "execution_count": 5,
      "outputs": [
        {
          "output_type": "stream",
          "name": "stdout",
          "text": [
            "FakeNewsPredictionProject.ipynb            ResumeParserProject\n",
            "How_Logistic_Regression_Works.PNG          submit.csv\n",
            "kaggle.json                                test.csv\n",
            "news_dataset_general_content_stemming.csv  train.csv\n",
            "qeyd.txt\n"
          ]
        }
      ]
    },
    {
      "cell_type": "code",
      "execution_count": 6,
      "metadata": {
        "id": "vTeGBJSjy0Ch"
      },
      "outputs": [],
      "source": [
        "import os\n",
        "os.environ['KAGGLE_CONFIG_DIR'] = \"/content/drive/MyDrive/Kaggle\"\n",
        "# /content/drive/MyDrive/Kaggle is the path where kaggle.json is present in the Google Drive"
      ]
    },
    {
      "cell_type": "code",
      "source": [
        "# !kaggle competitions download -c fake-news"
      ],
      "metadata": {
        "id": "YADNPY4T30tz"
      },
      "execution_count": 7,
      "outputs": []
    },
    {
      "cell_type": "code",
      "source": [
        "ls"
      ],
      "metadata": {
        "id": "1m4DjWOvzSfP",
        "colab": {
          "base_uri": "https://localhost:8080/"
        },
        "outputId": "428445e6-4f1d-4e8c-ced0-7b21323b5eae"
      },
      "execution_count": 8,
      "outputs": [
        {
          "output_type": "stream",
          "name": "stdout",
          "text": [
            "FakeNewsPredictionProject.ipynb            ResumeParserProject\n",
            "How_Logistic_Regression_Works.PNG          submit.csv\n",
            "kaggle.json                                test.csv\n",
            "news_dataset_general_content_stemming.csv  train.csv\n",
            "qeyd.txt\n"
          ]
        }
      ]
    },
    {
      "cell_type": "code",
      "source": [
        "#unzipping the zip files and deleting the zip files\n",
        "# !unzip \\fake-news.zip  && rm fake-news.zip"
      ],
      "metadata": {
        "id": "_vDUHoYDzShs"
      },
      "execution_count": 9,
      "outputs": []
    },
    {
      "cell_type": "markdown",
      "source": [
        "# About Dataset\n",
        "\n",
        "## train.csv: \n",
        "A full training dataset with the following attributes:\n",
        "\n",
        "id: unique id for a news article\n",
        "\n",
        "title: the title of a news article\n",
        "\n",
        "author: author of the news article\n",
        "\n",
        "text: the text of the article; could be incomplete\n",
        "\n",
        "label: a label that marks the article as potentially unreliable\n",
        "\n",
        "### 1: unreliable\n",
        "\n",
        "### 0: reliable\n",
        "\n",
        "## test.csv: \n",
        "A testing training dataset with all the same attributes at train.csv without the label.\n",
        "\n",
        "## submit.csv: \n",
        "A sample submission that you can"
      ],
      "metadata": {
        "id": "7_vM1Dep6MR7"
      }
    },
    {
      "cell_type": "code",
      "source": [
        "#below there is some research results about this cell\n",
        "import pandas as pd\n",
        "import numpy as np\n",
        "import re\n",
        "from nltk.corpus import stopwords     #natural language tool kit. example of stopwords: and, or, the (no need to these words)\n",
        "from nltk.stem.porter import PorterStemmer     #will remove prefixes and suffixes from words\n",
        "from sklearn.feature_extraction.text import TfidfVectorizer      #convert text into feature vectors. They are numbers????????????????????????????????????\n",
        "from sklearn.model_selection import train_test_split       #for divide data into train and test\n",
        "from sklearn.linear_model import LogisticRegression\n",
        "from sklearn.metrics import accuracy_score"
      ],
      "metadata": {
        "id": "K6qM03wj6PNq"
      },
      "execution_count": 10,
      "outputs": []
    },
    {
      "cell_type": "markdown",
      "source": [
        "### You can read the article on request\n",
        "\n",
        "The Natural Language Toolkit (NLTK) is a platform used for building Python programs that work with human language data for applying in statistical natural language processing (NLP). It contains text processing libraries for tokenization, parsing, classification, stemming, tagging and semantic reasoning.\n",
        "\n",
        "Stop words are a set of commonly used words in any language. For example, in English, “the”, “is” and “and”, would easily qualify as stop words. In NLP and text mining applications, stop words are used to eliminate unimportant words, allowing applications to focus on the important words instead.\n",
        "\n",
        "The nltk.corpus package defines a collection of corpus reader classes, which can be used to access the contents of a diverse set of corpora. The list of available corpora is given at: https://www.nltk.org/nltk_data/ Each corpus reader class is specialized to handle a specific corpus format.\n",
        "\n",
        "A corpus is a large and structured set of machine-readable texts that have been produced in a natural communicative setting. Its plural is corpora. They can be derived in different ways like text that was originally electronic, transcripts of spoken language and optical character recognition, etc.\n",
        "\n",
        "A corpus is a collection of authentic text or audio organized into datasets. Authentic here means text written or audio spoken by a native of the language or dialect. A corpus can be made up of everything from newspapers, novels, recipes, radio broadcasts to television shows, movies, and tweets.\n",
        "\n",
        "What is Porter stemmer in Python?\n",
        "\n",
        "Stemming Words\n",
        "\n",
        "from nltk.stem import PorterStemmer from nltk.stem import LancasterStemmer. nltk. stem is a package that performs stemming using different classes. PorterStemmer is one of the classes, so we import it using the above line of code\n",
        "\n",
        "What is TfidfVectorizer?\n",
        "Word Frequencies with TfidfVectorizer\n",
        "\n",
        "This is an acronym than stands for **“Term Frequency – Inverse Document” Frequency** which are the components of the resulting scores assigned to each word. Term Frequency: This summarizes how often a given word appears within a document.\n",
        "\n",
        "\n",
        "Reference: \n",
        "\n",
        "https://www.datacamp.com/tutorial/stemming-lemmatization-python\n",
        "\n",
        "https://www.nltk.org/api/nltk.stem.porter.html\n",
        "\n",
        "https://www.nltk.org/howto/stem.html"
      ],
      "metadata": {
        "id": "1-Lf6buX9Qcr"
      }
    },
    {
      "cell_type": "code",
      "source": [
        "import nltk\n",
        "nltk.download('stopwords')"
      ],
      "metadata": {
        "colab": {
          "base_uri": "https://localhost:8080/"
        },
        "id": "HcfRvzXb7-kq",
        "outputId": "ce69b6b3-fea7-452d-a0d2-ba20a034ba9c"
      },
      "execution_count": 11,
      "outputs": [
        {
          "output_type": "stream",
          "name": "stdout",
          "text": [
            "[nltk_data] Downloading package stopwords to /root/nltk_data...\n",
            "[nltk_data]   Unzipping corpora/stopwords.zip.\n"
          ]
        },
        {
          "output_type": "execute_result",
          "data": {
            "text/plain": [
              "True"
            ]
          },
          "metadata": {},
          "execution_count": 11
        }
      ]
    },
    {
      "cell_type": "code",
      "source": [
        "print(stopwords.words('english'))     #these words are not necessary"
      ],
      "metadata": {
        "colab": {
          "base_uri": "https://localhost:8080/"
        },
        "id": "gEP6YuWSB_dZ",
        "outputId": "fe6719e3-a0fc-42b8-85b3-ce769e603149"
      },
      "execution_count": 12,
      "outputs": [
        {
          "output_type": "stream",
          "name": "stdout",
          "text": [
            "['i', 'me', 'my', 'myself', 'we', 'our', 'ours', 'ourselves', 'you', \"you're\", \"you've\", \"you'll\", \"you'd\", 'your', 'yours', 'yourself', 'yourselves', 'he', 'him', 'his', 'himself', 'she', \"she's\", 'her', 'hers', 'herself', 'it', \"it's\", 'its', 'itself', 'they', 'them', 'their', 'theirs', 'themselves', 'what', 'which', 'who', 'whom', 'this', 'that', \"that'll\", 'these', 'those', 'am', 'is', 'are', 'was', 'were', 'be', 'been', 'being', 'have', 'has', 'had', 'having', 'do', 'does', 'did', 'doing', 'a', 'an', 'the', 'and', 'but', 'if', 'or', 'because', 'as', 'until', 'while', 'of', 'at', 'by', 'for', 'with', 'about', 'against', 'between', 'into', 'through', 'during', 'before', 'after', 'above', 'below', 'to', 'from', 'up', 'down', 'in', 'out', 'on', 'off', 'over', 'under', 'again', 'further', 'then', 'once', 'here', 'there', 'when', 'where', 'why', 'how', 'all', 'any', 'both', 'each', 'few', 'more', 'most', 'other', 'some', 'such', 'no', 'nor', 'not', 'only', 'own', 'same', 'so', 'than', 'too', 'very', 's', 't', 'can', 'will', 'just', 'don', \"don't\", 'should', \"should've\", 'now', 'd', 'll', 'm', 'o', 're', 've', 'y', 'ain', 'aren', \"aren't\", 'couldn', \"couldn't\", 'didn', \"didn't\", 'doesn', \"doesn't\", 'hadn', \"hadn't\", 'hasn', \"hasn't\", 'haven', \"haven't\", 'isn', \"isn't\", 'ma', 'mightn', \"mightn't\", 'mustn', \"mustn't\", 'needn', \"needn't\", 'shan', \"shan't\", 'shouldn', \"shouldn't\", 'wasn', \"wasn't\", 'weren', \"weren't\", 'won', \"won't\", 'wouldn', \"wouldn't\"]\n"
          ]
        }
      ]
    },
    {
      "cell_type": "markdown",
      "source": [
        "# Data Pre-processing part"
      ],
      "metadata": {
        "id": "LAuxek_DCLsw"
      }
    },
    {
      "cell_type": "code",
      "source": [
        "news_dataset_ = pd.read_csv('/content/drive/MyDrive/Kaggle/train.csv')"
      ],
      "metadata": {
        "id": "N_xQISssKCKG"
      },
      "execution_count": 13,
      "outputs": []
    },
    {
      "cell_type": "code",
      "source": [
        "news_dataset = news_dataset_.copy()\n",
        "news_dataset.head()"
      ],
      "metadata": {
        "colab": {
          "base_uri": "https://localhost:8080/",
          "height": 206
        },
        "id": "H-Hi8zG9LSZu",
        "outputId": "350f4868-9bcc-42ab-ff50-003348a846ea"
      },
      "execution_count": 14,
      "outputs": [
        {
          "output_type": "execute_result",
          "data": {
            "text/plain": [
              "   id                                              title              author  \\\n",
              "0   0  House Dem Aide: We Didn’t Even See Comey’s Let...       Darrell Lucus   \n",
              "1   1  FLYNN: Hillary Clinton, Big Woman on Campus - ...     Daniel J. Flynn   \n",
              "2   2                  Why the Truth Might Get You Fired  Consortiumnews.com   \n",
              "3   3  15 Civilians Killed In Single US Airstrike Hav...     Jessica Purkiss   \n",
              "4   4  Iranian woman jailed for fictional unpublished...      Howard Portnoy   \n",
              "\n",
              "                                                text  label  \n",
              "0  House Dem Aide: We Didn’t Even See Comey’s Let...      1  \n",
              "1  Ever get the feeling your life circles the rou...      0  \n",
              "2  Why the Truth Might Get You Fired October 29, ...      1  \n",
              "3  Videos 15 Civilians Killed In Single US Airstr...      1  \n",
              "4  Print \\nAn Iranian woman has been sentenced to...      1  "
            ],
            "text/html": [
              "\n",
              "  <div id=\"df-3f4655e3-450a-43dc-927f-6ed4a6c5a78d\">\n",
              "    <div class=\"colab-df-container\">\n",
              "      <div>\n",
              "<style scoped>\n",
              "    .dataframe tbody tr th:only-of-type {\n",
              "        vertical-align: middle;\n",
              "    }\n",
              "\n",
              "    .dataframe tbody tr th {\n",
              "        vertical-align: top;\n",
              "    }\n",
              "\n",
              "    .dataframe thead th {\n",
              "        text-align: right;\n",
              "    }\n",
              "</style>\n",
              "<table border=\"1\" class=\"dataframe\">\n",
              "  <thead>\n",
              "    <tr style=\"text-align: right;\">\n",
              "      <th></th>\n",
              "      <th>id</th>\n",
              "      <th>title</th>\n",
              "      <th>author</th>\n",
              "      <th>text</th>\n",
              "      <th>label</th>\n",
              "    </tr>\n",
              "  </thead>\n",
              "  <tbody>\n",
              "    <tr>\n",
              "      <th>0</th>\n",
              "      <td>0</td>\n",
              "      <td>House Dem Aide: We Didn’t Even See Comey’s Let...</td>\n",
              "      <td>Darrell Lucus</td>\n",
              "      <td>House Dem Aide: We Didn’t Even See Comey’s Let...</td>\n",
              "      <td>1</td>\n",
              "    </tr>\n",
              "    <tr>\n",
              "      <th>1</th>\n",
              "      <td>1</td>\n",
              "      <td>FLYNN: Hillary Clinton, Big Woman on Campus - ...</td>\n",
              "      <td>Daniel J. Flynn</td>\n",
              "      <td>Ever get the feeling your life circles the rou...</td>\n",
              "      <td>0</td>\n",
              "    </tr>\n",
              "    <tr>\n",
              "      <th>2</th>\n",
              "      <td>2</td>\n",
              "      <td>Why the Truth Might Get You Fired</td>\n",
              "      <td>Consortiumnews.com</td>\n",
              "      <td>Why the Truth Might Get You Fired October 29, ...</td>\n",
              "      <td>1</td>\n",
              "    </tr>\n",
              "    <tr>\n",
              "      <th>3</th>\n",
              "      <td>3</td>\n",
              "      <td>15 Civilians Killed In Single US Airstrike Hav...</td>\n",
              "      <td>Jessica Purkiss</td>\n",
              "      <td>Videos 15 Civilians Killed In Single US Airstr...</td>\n",
              "      <td>1</td>\n",
              "    </tr>\n",
              "    <tr>\n",
              "      <th>4</th>\n",
              "      <td>4</td>\n",
              "      <td>Iranian woman jailed for fictional unpublished...</td>\n",
              "      <td>Howard Portnoy</td>\n",
              "      <td>Print \\nAn Iranian woman has been sentenced to...</td>\n",
              "      <td>1</td>\n",
              "    </tr>\n",
              "  </tbody>\n",
              "</table>\n",
              "</div>\n",
              "      <button class=\"colab-df-convert\" onclick=\"convertToInteractive('df-3f4655e3-450a-43dc-927f-6ed4a6c5a78d')\"\n",
              "              title=\"Convert this dataframe to an interactive table.\"\n",
              "              style=\"display:none;\">\n",
              "        \n",
              "  <svg xmlns=\"http://www.w3.org/2000/svg\" height=\"24px\"viewBox=\"0 0 24 24\"\n",
              "       width=\"24px\">\n",
              "    <path d=\"M0 0h24v24H0V0z\" fill=\"none\"/>\n",
              "    <path d=\"M18.56 5.44l.94 2.06.94-2.06 2.06-.94-2.06-.94-.94-2.06-.94 2.06-2.06.94zm-11 1L8.5 8.5l.94-2.06 2.06-.94-2.06-.94L8.5 2.5l-.94 2.06-2.06.94zm10 10l.94 2.06.94-2.06 2.06-.94-2.06-.94-.94-2.06-.94 2.06-2.06.94z\"/><path d=\"M17.41 7.96l-1.37-1.37c-.4-.4-.92-.59-1.43-.59-.52 0-1.04.2-1.43.59L10.3 9.45l-7.72 7.72c-.78.78-.78 2.05 0 2.83L4 21.41c.39.39.9.59 1.41.59.51 0 1.02-.2 1.41-.59l7.78-7.78 2.81-2.81c.8-.78.8-2.07 0-2.86zM5.41 20L4 18.59l7.72-7.72 1.47 1.35L5.41 20z\"/>\n",
              "  </svg>\n",
              "      </button>\n",
              "      \n",
              "  <style>\n",
              "    .colab-df-container {\n",
              "      display:flex;\n",
              "      flex-wrap:wrap;\n",
              "      gap: 12px;\n",
              "    }\n",
              "\n",
              "    .colab-df-convert {\n",
              "      background-color: #E8F0FE;\n",
              "      border: none;\n",
              "      border-radius: 50%;\n",
              "      cursor: pointer;\n",
              "      display: none;\n",
              "      fill: #1967D2;\n",
              "      height: 32px;\n",
              "      padding: 0 0 0 0;\n",
              "      width: 32px;\n",
              "    }\n",
              "\n",
              "    .colab-df-convert:hover {\n",
              "      background-color: #E2EBFA;\n",
              "      box-shadow: 0px 1px 2px rgba(60, 64, 67, 0.3), 0px 1px 3px 1px rgba(60, 64, 67, 0.15);\n",
              "      fill: #174EA6;\n",
              "    }\n",
              "\n",
              "    [theme=dark] .colab-df-convert {\n",
              "      background-color: #3B4455;\n",
              "      fill: #D2E3FC;\n",
              "    }\n",
              "\n",
              "    [theme=dark] .colab-df-convert:hover {\n",
              "      background-color: #434B5C;\n",
              "      box-shadow: 0px 1px 3px 1px rgba(0, 0, 0, 0.15);\n",
              "      filter: drop-shadow(0px 1px 2px rgba(0, 0, 0, 0.3));\n",
              "      fill: #FFFFFF;\n",
              "    }\n",
              "  </style>\n",
              "\n",
              "      <script>\n",
              "        const buttonEl =\n",
              "          document.querySelector('#df-3f4655e3-450a-43dc-927f-6ed4a6c5a78d button.colab-df-convert');\n",
              "        buttonEl.style.display =\n",
              "          google.colab.kernel.accessAllowed ? 'block' : 'none';\n",
              "\n",
              "        async function convertToInteractive(key) {\n",
              "          const element = document.querySelector('#df-3f4655e3-450a-43dc-927f-6ed4a6c5a78d');\n",
              "          const dataTable =\n",
              "            await google.colab.kernel.invokeFunction('convertToInteractive',\n",
              "                                                     [key], {});\n",
              "          if (!dataTable) return;\n",
              "\n",
              "          const docLinkHtml = 'Like what you see? Visit the ' +\n",
              "            '<a target=\"_blank\" href=https://colab.research.google.com/notebooks/data_table.ipynb>data table notebook</a>'\n",
              "            + ' to learn more about interactive tables.';\n",
              "          element.innerHTML = '';\n",
              "          dataTable['output_type'] = 'display_data';\n",
              "          await google.colab.output.renderOutput(dataTable, element);\n",
              "          const docLink = document.createElement('div');\n",
              "          docLink.innerHTML = docLinkHtml;\n",
              "          element.appendChild(docLink);\n",
              "        }\n",
              "      </script>\n",
              "    </div>\n",
              "  </div>\n",
              "  "
            ]
          },
          "metadata": {},
          "execution_count": 14
        }
      ]
    },
    {
      "cell_type": "code",
      "source": [
        "news_dataset.shape"
      ],
      "metadata": {
        "colab": {
          "base_uri": "https://localhost:8080/"
        },
        "id": "8rbq7qMvLc7d",
        "outputId": "53ab9caa-d4b8-4313-f86f-7d7524be5406"
      },
      "execution_count": 15,
      "outputs": [
        {
          "output_type": "execute_result",
          "data": {
            "text/plain": [
              "(20800, 5)"
            ]
          },
          "metadata": {},
          "execution_count": 15
        }
      ]
    },
    {
      "cell_type": "code",
      "source": [
        "news_dataset.info()"
      ],
      "metadata": {
        "colab": {
          "base_uri": "https://localhost:8080/"
        },
        "id": "gzD07zrkLhZP",
        "outputId": "a3a6a44d-3445-413d-f5a8-a865b46110ea"
      },
      "execution_count": 16,
      "outputs": [
        {
          "output_type": "stream",
          "name": "stdout",
          "text": [
            "<class 'pandas.core.frame.DataFrame'>\n",
            "RangeIndex: 20800 entries, 0 to 20799\n",
            "Data columns (total 5 columns):\n",
            " #   Column  Non-Null Count  Dtype \n",
            "---  ------  --------------  ----- \n",
            " 0   id      20800 non-null  int64 \n",
            " 1   title   20242 non-null  object\n",
            " 2   author  18843 non-null  object\n",
            " 3   text    20761 non-null  object\n",
            " 4   label   20800 non-null  int64 \n",
            "dtypes: int64(2), object(3)\n",
            "memory usage: 812.6+ KB\n"
          ]
        }
      ]
    },
    {
      "cell_type": "code",
      "source": [
        "# news_dataset.describe().T       #no need because 2 int column, ID and label. To be consider no valuable statistics about them "
      ],
      "metadata": {
        "id": "CpbbkpSVLuB8"
      },
      "execution_count": 17,
      "outputs": []
    },
    {
      "cell_type": "code",
      "source": [
        "news_dataset.isnull().sum()  \n",
        "    \n",
        "# we can replace null values with empty string"
      ],
      "metadata": {
        "colab": {
          "base_uri": "https://localhost:8080/"
        },
        "id": "UAqjX3egL6ss",
        "outputId": "344520a8-9e1a-4466-d0f9-d3fba793b282"
      },
      "execution_count": 18,
      "outputs": [
        {
          "output_type": "execute_result",
          "data": {
            "text/plain": [
              "id           0\n",
              "title      558\n",
              "author    1957\n",
              "text        39\n",
              "label        0\n",
              "dtype: int64"
            ]
          },
          "metadata": {},
          "execution_count": 18
        }
      ]
    },
    {
      "cell_type": "code",
      "source": [
        "news_dataset.fillna('', inplace=True)"
      ],
      "metadata": {
        "id": "1dOnmSlsMZqk"
      },
      "execution_count": 19,
      "outputs": []
    },
    {
      "cell_type": "code",
      "source": [
        "news_dataset.isnull().sum() "
      ],
      "metadata": {
        "colab": {
          "base_uri": "https://localhost:8080/"
        },
        "id": "MN3iZ2nMQYFi",
        "outputId": "f0742226-6770-4922-8243-8c2d533f2742"
      },
      "execution_count": 20,
      "outputs": [
        {
          "output_type": "execute_result",
          "data": {
            "text/plain": [
              "id        0\n",
              "title     0\n",
              "author    0\n",
              "text      0\n",
              "label     0\n",
              "dtype: int64"
            ]
          },
          "metadata": {},
          "execution_count": 20
        }
      ]
    },
    {
      "cell_type": "code",
      "source": [
        "# do feature extraction. Increase meaningful column numbers\n",
        "# news_dataset['general_content'] = news_dataset['author'] + ' ' + news_dataset['title'] + ' ' + news_dataset['text']     #no need because of time\n",
        "news_dataset['content'] = news_dataset['author'] + ' ' + news_dataset['title']"
      ],
      "metadata": {
        "id": "gRLFLO1VQfaD"
      },
      "execution_count": 21,
      "outputs": []
    },
    {
      "cell_type": "code",
      "source": [
        "news_dataset.head()"
      ],
      "metadata": {
        "colab": {
          "base_uri": "https://localhost:8080/",
          "height": 302
        },
        "id": "anMfRHc0Qwqy",
        "outputId": "58440d15-ec02-4026-afe2-7cd0816118b5"
      },
      "execution_count": 22,
      "outputs": [
        {
          "output_type": "execute_result",
          "data": {
            "text/plain": [
              "   id                                              title              author  \\\n",
              "0   0  House Dem Aide: We Didn’t Even See Comey’s Let...       Darrell Lucus   \n",
              "1   1  FLYNN: Hillary Clinton, Big Woman on Campus - ...     Daniel J. Flynn   \n",
              "2   2                  Why the Truth Might Get You Fired  Consortiumnews.com   \n",
              "3   3  15 Civilians Killed In Single US Airstrike Hav...     Jessica Purkiss   \n",
              "4   4  Iranian woman jailed for fictional unpublished...      Howard Portnoy   \n",
              "\n",
              "                                                text  label  \\\n",
              "0  House Dem Aide: We Didn’t Even See Comey’s Let...      1   \n",
              "1  Ever get the feeling your life circles the rou...      0   \n",
              "2  Why the Truth Might Get You Fired October 29, ...      1   \n",
              "3  Videos 15 Civilians Killed In Single US Airstr...      1   \n",
              "4  Print \\nAn Iranian woman has been sentenced to...      1   \n",
              "\n",
              "                                             content  \n",
              "0  Darrell Lucus House Dem Aide: We Didn’t Even S...  \n",
              "1  Daniel J. Flynn FLYNN: Hillary Clinton, Big Wo...  \n",
              "2  Consortiumnews.com Why the Truth Might Get You...  \n",
              "3  Jessica Purkiss 15 Civilians Killed In Single ...  \n",
              "4  Howard Portnoy Iranian woman jailed for fictio...  "
            ],
            "text/html": [
              "\n",
              "  <div id=\"df-8c2fca25-9826-4157-a09f-5c8399fa5d05\">\n",
              "    <div class=\"colab-df-container\">\n",
              "      <div>\n",
              "<style scoped>\n",
              "    .dataframe tbody tr th:only-of-type {\n",
              "        vertical-align: middle;\n",
              "    }\n",
              "\n",
              "    .dataframe tbody tr th {\n",
              "        vertical-align: top;\n",
              "    }\n",
              "\n",
              "    .dataframe thead th {\n",
              "        text-align: right;\n",
              "    }\n",
              "</style>\n",
              "<table border=\"1\" class=\"dataframe\">\n",
              "  <thead>\n",
              "    <tr style=\"text-align: right;\">\n",
              "      <th></th>\n",
              "      <th>id</th>\n",
              "      <th>title</th>\n",
              "      <th>author</th>\n",
              "      <th>text</th>\n",
              "      <th>label</th>\n",
              "      <th>content</th>\n",
              "    </tr>\n",
              "  </thead>\n",
              "  <tbody>\n",
              "    <tr>\n",
              "      <th>0</th>\n",
              "      <td>0</td>\n",
              "      <td>House Dem Aide: We Didn’t Even See Comey’s Let...</td>\n",
              "      <td>Darrell Lucus</td>\n",
              "      <td>House Dem Aide: We Didn’t Even See Comey’s Let...</td>\n",
              "      <td>1</td>\n",
              "      <td>Darrell Lucus House Dem Aide: We Didn’t Even S...</td>\n",
              "    </tr>\n",
              "    <tr>\n",
              "      <th>1</th>\n",
              "      <td>1</td>\n",
              "      <td>FLYNN: Hillary Clinton, Big Woman on Campus - ...</td>\n",
              "      <td>Daniel J. Flynn</td>\n",
              "      <td>Ever get the feeling your life circles the rou...</td>\n",
              "      <td>0</td>\n",
              "      <td>Daniel J. Flynn FLYNN: Hillary Clinton, Big Wo...</td>\n",
              "    </tr>\n",
              "    <tr>\n",
              "      <th>2</th>\n",
              "      <td>2</td>\n",
              "      <td>Why the Truth Might Get You Fired</td>\n",
              "      <td>Consortiumnews.com</td>\n",
              "      <td>Why the Truth Might Get You Fired October 29, ...</td>\n",
              "      <td>1</td>\n",
              "      <td>Consortiumnews.com Why the Truth Might Get You...</td>\n",
              "    </tr>\n",
              "    <tr>\n",
              "      <th>3</th>\n",
              "      <td>3</td>\n",
              "      <td>15 Civilians Killed In Single US Airstrike Hav...</td>\n",
              "      <td>Jessica Purkiss</td>\n",
              "      <td>Videos 15 Civilians Killed In Single US Airstr...</td>\n",
              "      <td>1</td>\n",
              "      <td>Jessica Purkiss 15 Civilians Killed In Single ...</td>\n",
              "    </tr>\n",
              "    <tr>\n",
              "      <th>4</th>\n",
              "      <td>4</td>\n",
              "      <td>Iranian woman jailed for fictional unpublished...</td>\n",
              "      <td>Howard Portnoy</td>\n",
              "      <td>Print \\nAn Iranian woman has been sentenced to...</td>\n",
              "      <td>1</td>\n",
              "      <td>Howard Portnoy Iranian woman jailed for fictio...</td>\n",
              "    </tr>\n",
              "  </tbody>\n",
              "</table>\n",
              "</div>\n",
              "      <button class=\"colab-df-convert\" onclick=\"convertToInteractive('df-8c2fca25-9826-4157-a09f-5c8399fa5d05')\"\n",
              "              title=\"Convert this dataframe to an interactive table.\"\n",
              "              style=\"display:none;\">\n",
              "        \n",
              "  <svg xmlns=\"http://www.w3.org/2000/svg\" height=\"24px\"viewBox=\"0 0 24 24\"\n",
              "       width=\"24px\">\n",
              "    <path d=\"M0 0h24v24H0V0z\" fill=\"none\"/>\n",
              "    <path d=\"M18.56 5.44l.94 2.06.94-2.06 2.06-.94-2.06-.94-.94-2.06-.94 2.06-2.06.94zm-11 1L8.5 8.5l.94-2.06 2.06-.94-2.06-.94L8.5 2.5l-.94 2.06-2.06.94zm10 10l.94 2.06.94-2.06 2.06-.94-2.06-.94-.94-2.06-.94 2.06-2.06.94z\"/><path d=\"M17.41 7.96l-1.37-1.37c-.4-.4-.92-.59-1.43-.59-.52 0-1.04.2-1.43.59L10.3 9.45l-7.72 7.72c-.78.78-.78 2.05 0 2.83L4 21.41c.39.39.9.59 1.41.59.51 0 1.02-.2 1.41-.59l7.78-7.78 2.81-2.81c.8-.78.8-2.07 0-2.86zM5.41 20L4 18.59l7.72-7.72 1.47 1.35L5.41 20z\"/>\n",
              "  </svg>\n",
              "      </button>\n",
              "      \n",
              "  <style>\n",
              "    .colab-df-container {\n",
              "      display:flex;\n",
              "      flex-wrap:wrap;\n",
              "      gap: 12px;\n",
              "    }\n",
              "\n",
              "    .colab-df-convert {\n",
              "      background-color: #E8F0FE;\n",
              "      border: none;\n",
              "      border-radius: 50%;\n",
              "      cursor: pointer;\n",
              "      display: none;\n",
              "      fill: #1967D2;\n",
              "      height: 32px;\n",
              "      padding: 0 0 0 0;\n",
              "      width: 32px;\n",
              "    }\n",
              "\n",
              "    .colab-df-convert:hover {\n",
              "      background-color: #E2EBFA;\n",
              "      box-shadow: 0px 1px 2px rgba(60, 64, 67, 0.3), 0px 1px 3px 1px rgba(60, 64, 67, 0.15);\n",
              "      fill: #174EA6;\n",
              "    }\n",
              "\n",
              "    [theme=dark] .colab-df-convert {\n",
              "      background-color: #3B4455;\n",
              "      fill: #D2E3FC;\n",
              "    }\n",
              "\n",
              "    [theme=dark] .colab-df-convert:hover {\n",
              "      background-color: #434B5C;\n",
              "      box-shadow: 0px 1px 3px 1px rgba(0, 0, 0, 0.15);\n",
              "      filter: drop-shadow(0px 1px 2px rgba(0, 0, 0, 0.3));\n",
              "      fill: #FFFFFF;\n",
              "    }\n",
              "  </style>\n",
              "\n",
              "      <script>\n",
              "        const buttonEl =\n",
              "          document.querySelector('#df-8c2fca25-9826-4157-a09f-5c8399fa5d05 button.colab-df-convert');\n",
              "        buttonEl.style.display =\n",
              "          google.colab.kernel.accessAllowed ? 'block' : 'none';\n",
              "\n",
              "        async function convertToInteractive(key) {\n",
              "          const element = document.querySelector('#df-8c2fca25-9826-4157-a09f-5c8399fa5d05');\n",
              "          const dataTable =\n",
              "            await google.colab.kernel.invokeFunction('convertToInteractive',\n",
              "                                                     [key], {});\n",
              "          if (!dataTable) return;\n",
              "\n",
              "          const docLinkHtml = 'Like what you see? Visit the ' +\n",
              "            '<a target=\"_blank\" href=https://colab.research.google.com/notebooks/data_table.ipynb>data table notebook</a>'\n",
              "            + ' to learn more about interactive tables.';\n",
              "          element.innerHTML = '';\n",
              "          dataTable['output_type'] = 'display_data';\n",
              "          await google.colab.output.renderOutput(dataTable, element);\n",
              "          const docLink = document.createElement('div');\n",
              "          docLink.innerHTML = docLinkHtml;\n",
              "          element.appendChild(docLink);\n",
              "        }\n",
              "      </script>\n",
              "    </div>\n",
              "  </div>\n",
              "  "
            ]
          },
          "metadata": {},
          "execution_count": 22
        }
      ]
    },
    {
      "cell_type": "markdown",
      "source": [
        "### Preparing data for modelling"
      ],
      "metadata": {
        "id": "fsRKMVtYQ9d1"
      }
    },
    {
      "cell_type": "code",
      "source": [
        "X = news_dataset.drop(columns = ['label'], axis = 1)\n",
        "y = news_dataset['label']"
      ],
      "metadata": {
        "id": "xK0WS-IxR2oV"
      },
      "execution_count": 23,
      "outputs": []
    },
    {
      "cell_type": "code",
      "source": [
        "X.head()"
      ],
      "metadata": {
        "colab": {
          "base_uri": "https://localhost:8080/",
          "height": 250
        },
        "id": "iL-IdZWSSLHr",
        "outputId": "e2f29151-92f2-41b4-e820-8de77b4fb34d"
      },
      "execution_count": 24,
      "outputs": [
        {
          "output_type": "execute_result",
          "data": {
            "text/plain": [
              "   id                                              title              author  \\\n",
              "0   0  House Dem Aide: We Didn’t Even See Comey’s Let...       Darrell Lucus   \n",
              "1   1  FLYNN: Hillary Clinton, Big Woman on Campus - ...     Daniel J. Flynn   \n",
              "2   2                  Why the Truth Might Get You Fired  Consortiumnews.com   \n",
              "3   3  15 Civilians Killed In Single US Airstrike Hav...     Jessica Purkiss   \n",
              "4   4  Iranian woman jailed for fictional unpublished...      Howard Portnoy   \n",
              "\n",
              "                                                text  \\\n",
              "0  House Dem Aide: We Didn’t Even See Comey’s Let...   \n",
              "1  Ever get the feeling your life circles the rou...   \n",
              "2  Why the Truth Might Get You Fired October 29, ...   \n",
              "3  Videos 15 Civilians Killed In Single US Airstr...   \n",
              "4  Print \\nAn Iranian woman has been sentenced to...   \n",
              "\n",
              "                                             content  \n",
              "0  Darrell Lucus House Dem Aide: We Didn’t Even S...  \n",
              "1  Daniel J. Flynn FLYNN: Hillary Clinton, Big Wo...  \n",
              "2  Consortiumnews.com Why the Truth Might Get You...  \n",
              "3  Jessica Purkiss 15 Civilians Killed In Single ...  \n",
              "4  Howard Portnoy Iranian woman jailed for fictio...  "
            ],
            "text/html": [
              "\n",
              "  <div id=\"df-f830dd5c-88c5-4519-a96d-caea2d67e617\">\n",
              "    <div class=\"colab-df-container\">\n",
              "      <div>\n",
              "<style scoped>\n",
              "    .dataframe tbody tr th:only-of-type {\n",
              "        vertical-align: middle;\n",
              "    }\n",
              "\n",
              "    .dataframe tbody tr th {\n",
              "        vertical-align: top;\n",
              "    }\n",
              "\n",
              "    .dataframe thead th {\n",
              "        text-align: right;\n",
              "    }\n",
              "</style>\n",
              "<table border=\"1\" class=\"dataframe\">\n",
              "  <thead>\n",
              "    <tr style=\"text-align: right;\">\n",
              "      <th></th>\n",
              "      <th>id</th>\n",
              "      <th>title</th>\n",
              "      <th>author</th>\n",
              "      <th>text</th>\n",
              "      <th>content</th>\n",
              "    </tr>\n",
              "  </thead>\n",
              "  <tbody>\n",
              "    <tr>\n",
              "      <th>0</th>\n",
              "      <td>0</td>\n",
              "      <td>House Dem Aide: We Didn’t Even See Comey’s Let...</td>\n",
              "      <td>Darrell Lucus</td>\n",
              "      <td>House Dem Aide: We Didn’t Even See Comey’s Let...</td>\n",
              "      <td>Darrell Lucus House Dem Aide: We Didn’t Even S...</td>\n",
              "    </tr>\n",
              "    <tr>\n",
              "      <th>1</th>\n",
              "      <td>1</td>\n",
              "      <td>FLYNN: Hillary Clinton, Big Woman on Campus - ...</td>\n",
              "      <td>Daniel J. Flynn</td>\n",
              "      <td>Ever get the feeling your life circles the rou...</td>\n",
              "      <td>Daniel J. Flynn FLYNN: Hillary Clinton, Big Wo...</td>\n",
              "    </tr>\n",
              "    <tr>\n",
              "      <th>2</th>\n",
              "      <td>2</td>\n",
              "      <td>Why the Truth Might Get You Fired</td>\n",
              "      <td>Consortiumnews.com</td>\n",
              "      <td>Why the Truth Might Get You Fired October 29, ...</td>\n",
              "      <td>Consortiumnews.com Why the Truth Might Get You...</td>\n",
              "    </tr>\n",
              "    <tr>\n",
              "      <th>3</th>\n",
              "      <td>3</td>\n",
              "      <td>15 Civilians Killed In Single US Airstrike Hav...</td>\n",
              "      <td>Jessica Purkiss</td>\n",
              "      <td>Videos 15 Civilians Killed In Single US Airstr...</td>\n",
              "      <td>Jessica Purkiss 15 Civilians Killed In Single ...</td>\n",
              "    </tr>\n",
              "    <tr>\n",
              "      <th>4</th>\n",
              "      <td>4</td>\n",
              "      <td>Iranian woman jailed for fictional unpublished...</td>\n",
              "      <td>Howard Portnoy</td>\n",
              "      <td>Print \\nAn Iranian woman has been sentenced to...</td>\n",
              "      <td>Howard Portnoy Iranian woman jailed for fictio...</td>\n",
              "    </tr>\n",
              "  </tbody>\n",
              "</table>\n",
              "</div>\n",
              "      <button class=\"colab-df-convert\" onclick=\"convertToInteractive('df-f830dd5c-88c5-4519-a96d-caea2d67e617')\"\n",
              "              title=\"Convert this dataframe to an interactive table.\"\n",
              "              style=\"display:none;\">\n",
              "        \n",
              "  <svg xmlns=\"http://www.w3.org/2000/svg\" height=\"24px\"viewBox=\"0 0 24 24\"\n",
              "       width=\"24px\">\n",
              "    <path d=\"M0 0h24v24H0V0z\" fill=\"none\"/>\n",
              "    <path d=\"M18.56 5.44l.94 2.06.94-2.06 2.06-.94-2.06-.94-.94-2.06-.94 2.06-2.06.94zm-11 1L8.5 8.5l.94-2.06 2.06-.94-2.06-.94L8.5 2.5l-.94 2.06-2.06.94zm10 10l.94 2.06.94-2.06 2.06-.94-2.06-.94-.94-2.06-.94 2.06-2.06.94z\"/><path d=\"M17.41 7.96l-1.37-1.37c-.4-.4-.92-.59-1.43-.59-.52 0-1.04.2-1.43.59L10.3 9.45l-7.72 7.72c-.78.78-.78 2.05 0 2.83L4 21.41c.39.39.9.59 1.41.59.51 0 1.02-.2 1.41-.59l7.78-7.78 2.81-2.81c.8-.78.8-2.07 0-2.86zM5.41 20L4 18.59l7.72-7.72 1.47 1.35L5.41 20z\"/>\n",
              "  </svg>\n",
              "      </button>\n",
              "      \n",
              "  <style>\n",
              "    .colab-df-container {\n",
              "      display:flex;\n",
              "      flex-wrap:wrap;\n",
              "      gap: 12px;\n",
              "    }\n",
              "\n",
              "    .colab-df-convert {\n",
              "      background-color: #E8F0FE;\n",
              "      border: none;\n",
              "      border-radius: 50%;\n",
              "      cursor: pointer;\n",
              "      display: none;\n",
              "      fill: #1967D2;\n",
              "      height: 32px;\n",
              "      padding: 0 0 0 0;\n",
              "      width: 32px;\n",
              "    }\n",
              "\n",
              "    .colab-df-convert:hover {\n",
              "      background-color: #E2EBFA;\n",
              "      box-shadow: 0px 1px 2px rgba(60, 64, 67, 0.3), 0px 1px 3px 1px rgba(60, 64, 67, 0.15);\n",
              "      fill: #174EA6;\n",
              "    }\n",
              "\n",
              "    [theme=dark] .colab-df-convert {\n",
              "      background-color: #3B4455;\n",
              "      fill: #D2E3FC;\n",
              "    }\n",
              "\n",
              "    [theme=dark] .colab-df-convert:hover {\n",
              "      background-color: #434B5C;\n",
              "      box-shadow: 0px 1px 3px 1px rgba(0, 0, 0, 0.15);\n",
              "      filter: drop-shadow(0px 1px 2px rgba(0, 0, 0, 0.3));\n",
              "      fill: #FFFFFF;\n",
              "    }\n",
              "  </style>\n",
              "\n",
              "      <script>\n",
              "        const buttonEl =\n",
              "          document.querySelector('#df-f830dd5c-88c5-4519-a96d-caea2d67e617 button.colab-df-convert');\n",
              "        buttonEl.style.display =\n",
              "          google.colab.kernel.accessAllowed ? 'block' : 'none';\n",
              "\n",
              "        async function convertToInteractive(key) {\n",
              "          const element = document.querySelector('#df-f830dd5c-88c5-4519-a96d-caea2d67e617');\n",
              "          const dataTable =\n",
              "            await google.colab.kernel.invokeFunction('convertToInteractive',\n",
              "                                                     [key], {});\n",
              "          if (!dataTable) return;\n",
              "\n",
              "          const docLinkHtml = 'Like what you see? Visit the ' +\n",
              "            '<a target=\"_blank\" href=https://colab.research.google.com/notebooks/data_table.ipynb>data table notebook</a>'\n",
              "            + ' to learn more about interactive tables.';\n",
              "          element.innerHTML = '';\n",
              "          dataTable['output_type'] = 'display_data';\n",
              "          await google.colab.output.renderOutput(dataTable, element);\n",
              "          const docLink = document.createElement('div');\n",
              "          docLink.innerHTML = docLinkHtml;\n",
              "          element.appendChild(docLink);\n",
              "        }\n",
              "      </script>\n",
              "    </div>\n",
              "  </div>\n",
              "  "
            ]
          },
          "metadata": {},
          "execution_count": 24
        }
      ]
    },
    {
      "cell_type": "code",
      "source": [
        "y.head()"
      ],
      "metadata": {
        "colab": {
          "base_uri": "https://localhost:8080/"
        },
        "id": "zw5vWGusSPEy",
        "outputId": "a7a57f8d-ec04-495a-d5b6-75bf78b65841"
      },
      "execution_count": 25,
      "outputs": [
        {
          "output_type": "execute_result",
          "data": {
            "text/plain": [
              "0    1\n",
              "1    0\n",
              "2    1\n",
              "3    1\n",
              "4    1\n",
              "Name: label, dtype: int64"
            ]
          },
          "metadata": {},
          "execution_count": 25
        }
      ]
    },
    {
      "cell_type": "markdown",
      "source": [
        "## Stemming\n",
        "\n",
        "Reduce words to their root word\n",
        "\n",
        "example:\n",
        "actor, actress, acting --> root is: act\n",
        "\n",
        "wil will create number vectors for modelling"
      ],
      "metadata": {
        "id": "7mmrJH_pSPyS"
      }
    },
    {
      "cell_type": "code",
      "source": [
        "port_stem = PorterStemmer()"
      ],
      "metadata": {
        "id": "PLHqsKqySohS"
      },
      "execution_count": 26,
      "outputs": []
    },
    {
      "cell_type": "code",
      "source": [
        "def stemming(content):                                   \n",
        "  stemmed_content = re.sub('[^a-zA-Z]',' ', content)     #choose only words, not numbers or anything else. replace unnecessary to space \n",
        "  stemmed_content = stemmed_content.lower()    #ML can think uppercase words are more significant   \n",
        "  stemmed_content = stemmed_content.split()    #convert to list. split into the list\n",
        "  stemmed_content = [port_stem.stem(word) for word in stemmed_content if not word in stopwords.words('english')]   #stemming. but here take word and delete\n",
        "                                                                                                                   #because theese are stopwords, not \n",
        "                                                                                                                   #significant\n",
        "  stemmed_content = ' '.join(stemmed_content)    #liability of stemming function. join all words together\n",
        "  return stemmed_content"
      ],
      "metadata": {
        "id": "0UsQgSRFTVmq"
      },
      "execution_count": 27,
      "outputs": []
    },
    {
      "cell_type": "code",
      "source": [
        "news_dataset['content'] = news_dataset['content'].apply(stemming)\n",
        "# news_dataset['general_content'] = news_dataset['general_content'].apply(stemming)     #because of time"
      ],
      "metadata": {
        "id": "M3_Hq4kgahzf"
      },
      "execution_count": 28,
      "outputs": []
    },
    {
      "cell_type": "code",
      "source": [
        "print(news_dataset[['content']])"
      ],
      "metadata": {
        "colab": {
          "base_uri": "https://localhost:8080/"
        },
        "id": "u_XOLCwZbgxv",
        "outputId": "3e040d72-aa82-4d59-a4d9-cff8ec035686"
      },
      "execution_count": 29,
      "outputs": [
        {
          "output_type": "stream",
          "name": "stdout",
          "text": [
            "                                                 content\n",
            "0      darrel lucu hous dem aid even see comey letter...\n",
            "1      daniel j flynn flynn hillari clinton big woman...\n",
            "2                 consortiumnew com truth might get fire\n",
            "3      jessica purkiss civilian kill singl us airstri...\n",
            "4      howard portnoy iranian woman jail fiction unpu...\n",
            "...                                                  ...\n",
            "20795  jerom hudson rapper trump poster child white s...\n",
            "20796  benjamin hoffman n f l playoff schedul matchup...\n",
            "20797  michael j de la merc rachel abram maci said re...\n",
            "20798  alex ansari nato russia hold parallel exercis ...\n",
            "20799                          david swanson keep f aliv\n",
            "\n",
            "[20800 rows x 1 columns]\n"
          ]
        }
      ]
    },
    {
      "cell_type": "code",
      "source": [
        "# print(news_dataset[['general_content']])     #no need because of time"
      ],
      "metadata": {
        "id": "398xM6r7b5pb"
      },
      "execution_count": 30,
      "outputs": []
    },
    {
      "cell_type": "code",
      "source": [
        "#separate the data and label\n",
        "# X = news_dataset[['content', 'general_content']].values         #no need because of time\n",
        "X = news_dataset['content'].values\n",
        "y = news_dataset['label'].values"
      ],
      "metadata": {
        "id": "fUsKJYaDcEhU"
      },
      "execution_count": 31,
      "outputs": []
    },
    {
      "cell_type": "code",
      "source": [
        "X"
      ],
      "metadata": {
        "colab": {
          "base_uri": "https://localhost:8080/"
        },
        "id": "6wH-W50JcyHG",
        "outputId": "21d21df5-0a69-4bdf-aa03-67052a66e177"
      },
      "execution_count": 32,
      "outputs": [
        {
          "output_type": "execute_result",
          "data": {
            "text/plain": [
              "array(['darrel lucu hous dem aid even see comey letter jason chaffetz tweet',\n",
              "       'daniel j flynn flynn hillari clinton big woman campu breitbart',\n",
              "       'consortiumnew com truth might get fire', ...,\n",
              "       'michael j de la merc rachel abram maci said receiv takeov approach hudson bay new york time',\n",
              "       'alex ansari nato russia hold parallel exercis balkan',\n",
              "       'david swanson keep f aliv'], dtype=object)"
            ]
          },
          "metadata": {},
          "execution_count": 32
        }
      ]
    },
    {
      "cell_type": "code",
      "source": [
        "y    #1 is fake, 0 is not fake"
      ],
      "metadata": {
        "colab": {
          "base_uri": "https://localhost:8080/"
        },
        "id": "XSrB--EhdTHh",
        "outputId": "472dac42-4f44-46eb-e216-97c834cf970e"
      },
      "execution_count": 33,
      "outputs": [
        {
          "output_type": "execute_result",
          "data": {
            "text/plain": [
              "array([1, 0, 1, ..., 0, 1, 1])"
            ]
          },
          "metadata": {},
          "execution_count": 33
        }
      ]
    },
    {
      "cell_type": "code",
      "source": [
        "#convert text to numeric data for understanding of ML\n",
        "vectorizer = TfidfVectorizer()      #how many times word repeated    Tf count repetition numbers and gives more significancy to most repeated words.\n",
        "                                    # idf reduces words that repeated many times\n",
        "                                    #because may be there is word that repeated all texts that's wyh it is not significant. doesn't tell anything\n",
        "vectorizer.fit(X)\n",
        "\n",
        "X = vectorizer.transform(X)\n",
        "\n",
        "#no need to do for y, because y is actually number"
      ],
      "metadata": {
        "id": "RJYlXRX9dXRQ"
      },
      "execution_count": 34,
      "outputs": []
    },
    {
      "cell_type": "markdown",
      "source": [
        "## Split train-test data"
      ],
      "metadata": {
        "id": "aXazCI-ue2zQ"
      }
    },
    {
      "cell_type": "code",
      "source": [
        "X_train, X_test, y_train, y_test = train_test_split(X, y, test_size=0.2, stratify=y, random_state=2)   #similar proportion to be 0 and 1 for test and train"
      ],
      "metadata": {
        "id": "jS4WJO3YhUDN"
      },
      "execution_count": 35,
      "outputs": []
    },
    {
      "cell_type": "markdown",
      "source": [
        "# Create model!"
      ],
      "metadata": {
        "id": "Ycv-t5hlh2kA"
      }
    },
    {
      "cell_type": "markdown",
      "source": [
        "![How_Logistic_Regression_Works1.PNG](data:image/png;base64,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)"
      ],
      "metadata": {
        "id": "E87ZzerTlJwD"
      }
    },
    {
      "cell_type": "code",
      "source": [
        "model = LogisticRegression()"
      ],
      "metadata": {
        "id": "wSxb8od4ivX_"
      },
      "execution_count": 36,
      "outputs": []
    },
    {
      "cell_type": "code",
      "source": [
        "model.fit(X_train, y_train)"
      ],
      "metadata": {
        "colab": {
          "base_uri": "https://localhost:8080/"
        },
        "id": "IAHUpAdai9zV",
        "outputId": "03122330-54ee-4020-ef6b-991d9d768bdb"
      },
      "execution_count": 37,
      "outputs": [
        {
          "output_type": "execute_result",
          "data": {
            "text/plain": [
              "LogisticRegression()"
            ]
          },
          "metadata": {},
          "execution_count": 37
        }
      ]
    },
    {
      "cell_type": "markdown",
      "source": [
        "# Evaluation"
      ],
      "metadata": {
        "id": "yt_7GmDDltgi"
      }
    },
    {
      "cell_type": "markdown",
      "source": [
        "## Prediction"
      ],
      "metadata": {
        "id": "r9c4jhmHl3d7"
      }
    },
    {
      "cell_type": "code",
      "source": [
        "train_prediction = model.predict(X_train)\n",
        "train_acc = accuracy_score(train_prediction, y_train)       #but test data accuracy is more important\n",
        "train_acc"
      ],
      "metadata": {
        "colab": {
          "base_uri": "https://localhost:8080/"
        },
        "id": "OuLlUmx0mAgD",
        "outputId": "5a7bb470-7740-45fb-b687-455696636d5e"
      },
      "execution_count": 38,
      "outputs": [
        {
          "output_type": "execute_result",
          "data": {
            "text/plain": [
              "0.9865985576923076"
            ]
          },
          "metadata": {},
          "execution_count": 38
        }
      ]
    },
    {
      "cell_type": "markdown",
      "source": [
        "### For test data"
      ],
      "metadata": {
        "id": "cI6mUR3ksvyp"
      }
    },
    {
      "cell_type": "code",
      "source": [
        "test_prediction = model.predict(X_test)\n",
        "test_acc = accuracy_score(test_prediction, y_test)       \n",
        "test_acc"
      ],
      "metadata": {
        "colab": {
          "base_uri": "https://localhost:8080/"
        },
        "id": "uadgnby1mX1x",
        "outputId": "3653eeac-0a8a-439b-cec0-0e3a83a29319"
      },
      "execution_count": 39,
      "outputs": [
        {
          "output_type": "execute_result",
          "data": {
            "text/plain": [
              "0.9790865384615385"
            ]
          },
          "metadata": {},
          "execution_count": 39
        }
      ]
    },
    {
      "cell_type": "code",
      "source": [
        "#check one example\n",
        "\n",
        "X_new = X_test[4]              # first observarrion(row)\n",
        "\n",
        "prediction = model.predict(X_new)          #fake 1     real 0         real or fake?\n",
        "if prediction == 0:\n",
        "  print('News is real!')\n",
        "else:\n",
        "  print('News is fake!')              "
      ],
      "metadata": {
        "colab": {
          "base_uri": "https://localhost:8080/"
        },
        "id": "Gsp_HQcttIcR",
        "outputId": "99da3053-a76c-43a8-e777-d6fa20d16ab2"
      },
      "execution_count": 40,
      "outputs": [
        {
          "output_type": "stream",
          "name": "stdout",
          "text": [
            "News is real!\n"
          ]
        }
      ]
    },
    {
      "cell_type": "code",
      "source": [
        "y_test[4]        #True prediction! Good Job!"
      ],
      "metadata": {
        "colab": {
          "base_uri": "https://localhost:8080/"
        },
        "id": "x1CLh5iauOUK",
        "outputId": "1f292e9f-3c62-4a26-8f76-00b51c2a08a0"
      },
      "execution_count": 41,
      "outputs": [
        {
          "output_type": "execute_result",
          "data": {
            "text/plain": [
              "0"
            ]
          },
          "metadata": {},
          "execution_count": 41
        }
      ]
    },
    {
      "cell_type": "markdown",
      "source": [
        "# Thanks!"
      ],
      "metadata": {
        "id": "e6CUOemvtzb5"
      }
    }
  ]
}