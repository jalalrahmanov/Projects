{
 "cells": [
  {
   "cell_type": "code",
   "execution_count": 6,
   "metadata": {},
   "outputs": [],
   "source": [
    "import numpy as np\n",
    "import pandas as pd\n",
    "import math\n",
    "from functools import reduce\n",
    "from matplotlib import pyplot as plt"
   ]
  },
  {
   "cell_type": "markdown",
   "metadata": {},
   "source": [
    "# Birthday Pair Problem Solutions\n",
    "\n",
    "You may ignore leap days for the following questions."
   ]
  },
  {
   "cell_type": "markdown",
   "metadata": {},
   "source": [
    "### Question 1. Birthday Pairings.\n",
    "\n",
    "**_You are throwing a party and inviting random people you have never met. What's the fewest number of people you need to invite to have at least 50% probability that two strangers will have the same birthday? (Birth year need not match.)_**\n",
    "\n",
    "This problem can be solved by thinking about the complementary case: what is the probability that we DO NOT have two people with matching birthdays?  That would mean that each person has to have their own unique birthday.  Think about the party goes arriving at the party... the first person's birthday can be any day, but after that each new person who arrives has a more and more limited number of possible birthdays to ensure that each person's birthday is unique.  The probably that $r$ people have unique birthdays is:\n",
    "\n",
    "$$ 1 \\cdot \\frac{N-1}{N} \\cdot \\frac{N-2}{N} \\cdot \\frac{N-3}{N} \\cdots \\frac{N-r+1}{N} = \\frac{N!}{(N-r)!N^r}.$$\n",
    "\n",
    "where $N$ is the number of days in a year ($N=365$ here on Earth) in the year and $r$ is the number of people we invite to our party.\n",
    "\n",
    "Therefore, the probability that at least two people will have a shared birthday is just the compliment of this expression, so we are now required to find $r$ such that:\n",
    "\n",
    "$$1 - \\frac{N!}{(N-r)!N^r} > \\frac{1}{2}$$\n",
    "\n",
    "Let's build a function to help us evaluate the left-hand side of the above equation."
   ]
  },
  {
   "cell_type": "code",
   "execution_count": 75,
   "metadata": {},
   "outputs": [],
   "source": [
    "def prob_birthday_success(r, N=365):\n",
    "    ''' Calculates the probability that two people will share the same birthday.\n",
    "    \n",
    "        Inputs:  r - the number of people considered.\n",
    "                 N - the number of days in the year. Defaults to 365 days per year.\n",
    "        Outputs: probability of finding two people with the same birthday.\n",
    "        \n",
    "        Requires r and N to be integers; requires r >= 2 and N >= 1.\n",
    "        If the number of people r is bigger than the number of days N, return a probability of 1.\n",
    "        Remainder of code relies on our analytic solution to arrive at answer.  \n",
    "        First computes the factorial, N!/(N-r)!, and the power, N^r, before returning the success probability.\n",
    "    '''\n",
    "    assert int(r) == r\n",
    "    assert int(N) == N\n",
    "    assert r >= 2\n",
    "    assert N >= 1\n",
    "    \n",
    "    if r > N: return 1.\n",
    "    \n",
    "    factorial = reduce(lambda x, y: x*y, range(N-r+1, N+1))\n",
    "    power = N**r\n",
    "    return (1 - factorial/power)"
   ]
  },
  {
   "cell_type": "markdown",
   "metadata": {},
   "source": [
    "Now that we have the above formula, we can plot how the probability changes as a function of the number of people invited to the party, $r$."
   ]
  },
  {
   "cell_type": "code",
   "execution_count": 76,
   "metadata": {},
   "outputs": [],
   "source": [
    "MAX_R = 65"
   ]
  },
  {
   "cell_type": "code",
   "execution_count": 77,
   "metadata": {},
   "outputs": [
    {
     "data": {
      "text/plain": [
       "Text(0,0.5,'Probability of Birthday Pair')"
      ]
     },
     "execution_count": 77,
     "metadata": {},
     "output_type": "execute_result"
    },
    {
     "data": {
      "image/png": "[encoded data removed]",
      "text/plain": [
       "<Figure size 864x576 with 1 Axes>"
      ]
     },
     "metadata": {
      "needs_background": "light"
     },
     "output_type": "display_data"
    }
   ],
   "source": [
    "plt.figure(figsize=(12,8))\n",
    "\n",
    "plt.plot(range(2, MAX_R), [prob_birthday_success(x) for x in range(2, MAX_R)], \n",
    "         linewidth=4, zorder=10)\n",
    "\n",
    "plt.axhline(0.5, color='gray', linestyle='--')\n",
    "plt.axhline(1, color='gray', linestyle='--')\n",
    "plt.xlabel('Number of People Considered', fontsize=16)\n",
    "plt.ylabel('Probability of Birthday Pair', fontsize=16)"
   ]
  },
  {
   "cell_type": "code",
   "execution_count": 78,
   "metadata": {},
   "outputs": [
    {
     "data": {
      "text/plain": [
       "0.5072972343239854"
      ]
     },
     "execution_count": 78,
     "metadata": {},
     "output_type": "execute_result"
    }
   ],
   "source": [
    "prob_birthday_success(23)"
   ]
  },
  {
   "cell_type": "code",
   "execution_count": 79,
   "metadata": {},
   "outputs": [
    {
     "data": {
      "text/plain": [
       "0.994122660865348"
      ]
     },
     "execution_count": 79,
     "metadata": {},
     "output_type": "execute_result"
    }
   ],
   "source": [
    "prob_birthday_success(60)"
   ]
  },
  {
   "cell_type": "markdown",
   "metadata": {},
   "source": [
    "If you invite 23 people to your party, you have a 50% probability that 2 people will share the same birthday, and inviting 60 people pretty much guarantees it."
   ]
  },
  {
   "cell_type": "markdown",
   "metadata": {},
   "source": [
    "### Question 2. Finding Your Birthmate.\n",
    "**_You want to find someone whose birthday matches yours. How many strangers do you need to ask to have a 50-50 chance of matching?_**\n",
    "\n",
    "Again, we can think about the opposite case... what is the probability that everyone you meet has a different birthday than you?  (Note: now people do not need to have unique birthdays.  They just can't have YOUR birthday.)\n",
    "\n",
    "$$ \\frac{N-1}{N} \\cdot \\frac{N-1}{N} \\cdots \\frac{N-1}{N} = \\left(\\frac{N-1}{N}\\right)^n $$\n",
    "\n",
    "where $N$ is still the number of days in the year and $n$ is now the number of people you must ask.\n",
    "\n",
    "So we must evaluate the compliment.  Find $n$ such that:\n",
    "\n",
    "$$1 - \\left(\\frac{N-1}{N}\\right)^n > \\frac{1}{2}.$$\n",
    "\n",
    "This expression is a bit nicer to solve.  After introducting logarithms and shifting quantities around a bit, we determine:\n",
    "\n",
    "$$n > \\frac{\\log\\left(\\frac{1}{2}\\right)}{\\log\\left(\\frac{N-1}{N}\\right)}.$$\n",
    "\n",
    "Substituting $N=365$ in above tells us that to have at least a 50% chance of meeting our birthmate we must ask at least:"
   ]
  },
  {
   "cell_type": "code",
   "execution_count": 80,
   "metadata": {},
   "outputs": [],
   "source": [
    "N = 365"
   ]
  },
  {
   "cell_type": "code",
   "execution_count": 81,
   "metadata": {},
   "outputs": [
    {
     "data": {
      "text/plain": [
       "253.0"
      ]
     },
     "execution_count": 81,
     "metadata": {},
     "output_type": "execute_result"
    }
   ],
   "source": [
    "np.ceil(math.log(0.5)/math.log((N-1)/N))     #Round up to the nearest whole person"
   ]
  },
  {
   "cell_type": "markdown",
   "metadata": {},
   "source": [
    "...253 people.  That's a much bigger party that what was required for Question 1!"
   ]
  },
  {
   "cell_type": "markdown",
   "metadata": {},
   "source": [
    "### Question 3. Birthday Holidays.\n",
    "**_An up-and-coming tech start-up has developed a novel time-off policy: the CEO gives all the workers a holiday whenever one of them has a birthday. Other than these birthday-holidays, they are expected to work 365 days a year. The CEO wants to maximize the expected number of total worker-days completed per year at the company. How many people should the CEO hire? (Note: the CEO's birthday is not considered a holiday.)_**\n",
    "\n",
    "In this more challenging question, we want to know how many people to hire to maximize the worker-days completed.  Think about the first day of the year.  The workers only work if no one has a birthday.  The probability that the any individual worker does not have a birthday on the first day of the year is (N-1)/N.  To find the probability that NO ONE has this birthday, we multiply $w$ distinct events:\n",
    "\n",
    "$$ \\frac{N-1}{N} \\cdot \\frac{N-1}{N} \\cdots \\frac{N-1}{N} = w\\left(\\frac{N-1}{N}\\right)^w.$$\n",
    "\n",
    "It turns out that the above equation is true for any individual calendar day.  So the number of worker-days completed looks like:\n",
    "\n",
    "$$ w\\left(\\frac{N-1}{N}\\right)^w + w\\left(\\frac{N-1}{N}\\right)^w + \\cdots + w\\left(\\frac{N-1}{N}\\right)^w = wN\\left(\\frac{N-1}{N}\\right)^w $$\n",
    "\n",
    "where there are $N$ calendar days in a year.\n",
    "\n",
    "We must now find $w$ that maximizes this expression.  How do we optimize equations?  Well, derivatives definitely work!  Taking the derivative and setting it equal to zero, we find:\n",
    "\n",
    "$$\\frac{\\text{d}}{\\text{d}w} \\left[wN\\left(\\frac{N-1}{N}\\right)^w\\right] = N\\left(\\frac{N-1}{N}\\right)^w + wN\\log{\\left(\\frac{N-1}{N}\\right)} \\left(\\frac{N-1}{N}\\right)^w = 0 $$\n",
    "\n",
    "Solving this leads us eventually leads us to:\n",
    "\n",
    "$$ w = \\left(\\log{\\left(\\frac{N}{N-1}\\right)}\\right)^{-1},  $$\n",
    "\n",
    "so $w$ can be evaluated as:"
   ]
  },
  {
   "cell_type": "code",
   "execution_count": 82,
   "metadata": {},
   "outputs": [
    {
     "data": {
      "text/plain": [
       "364.4997713762012"
      ]
     },
     "execution_count": 82,
     "metadata": {},
     "output_type": "execute_result"
    }
   ],
   "source": [
    "1/math.log(N/(N-1))"
   ]
  },
  {
   "cell_type": "markdown",
   "metadata": {},
   "source": [
    "Thus we should hire 364 workers.  (We might as well round down since both 364 and 365 are roughly the same and that way we save paying the $365^\\text{th}$ man.)\n",
    "\n",
    "Hiring 364 workers ensures that "
   ]
  },
  {
   "cell_type": "code",
   "execution_count": 83,
   "metadata": {},
   "outputs": [],
   "source": [
    "w = 364"
   ]
  },
  {
   "cell_type": "code",
   "execution_count": 84,
   "metadata": {},
   "outputs": [
    {
     "data": {
      "text/plain": [
       "48943.52380535132"
      ]
     },
     "execution_count": 84,
     "metadata": {},
     "output_type": "execute_result"
    }
   ],
   "source": [
    "w*N*((N-1)/N)**w"
   ]
  },
  {
   "cell_type": "markdown",
   "metadata": {},
   "source": [
    "roughly 49,000 worker-days are completed per year."
   ]
  },
  {
   "cell_type": "code",
   "execution_count": null,
   "metadata": {},
   "outputs": [],
   "source": []
  }
 ],
 "metadata": {
  "kernelspec": {
   "display_name": "Python 3",
   "language": "python",
   "name": "python3"
  },
  "language_info": {
   "codemirror_mode": {
    "name": "ipython",
    "version": 3
   },
   "file_extension": ".py",
   "mimetype": "text/x-python",
   "name": "python",
   "nbconvert_exporter": "python",
   "pygments_lexer": "ipython3",
   "version": "3.6.6"
  }
 },
 "nbformat": 4,
 "nbformat_minor": 2
}
